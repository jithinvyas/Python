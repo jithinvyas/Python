{
 "cells": [
  {
   "cell_type": "markdown",
   "id": "76513448",
   "metadata": {},
   "source": [
    "## Sample Data"
   ]
  },
  {
   "cell_type": "code",
   "execution_count": 1,
   "id": "840cde58",
   "metadata": {},
   "outputs": [],
   "source": [
    "cityNames = ['Chennai','Banglore','Chennai','Hyderabad',\n",
    "       'Mumbai','New Delhi','Hyderabad','Chennai',\n",
    "      'Chennai','Banglore','Chennai','New Delhi',\n",
    "       'Hyderabad','Chennai','Hyderabad','Chennai',\n",
    "       'Chennai','New Delhi','New Delhi','Hyderabad'\n",
    "      ]"
   ]
  },
  {
   "cell_type": "markdown",
   "id": "9cc2fec4",
   "metadata": {},
   "source": [
    "## Find Index of Each City"
   ]
  },
  {
   "cell_type": "code",
   "execution_count": 2,
   "id": "85f3d063",
   "metadata": {
    "scrolled": true
   },
   "outputs": [
    {
     "name": "stdout",
     "output_type": "stream",
     "text": [
      "0 Chennai\n",
      "1 Banglore\n",
      "2 Chennai\n",
      "3 Hyderabad\n",
      "4 Mumbai\n",
      "5 New Delhi\n",
      "6 Hyderabad\n",
      "7 Chennai\n",
      "8 Chennai\n",
      "9 Banglore\n",
      "10 Chennai\n",
      "11 New Delhi\n",
      "12 Hyderabad\n",
      "13 Chennai\n",
      "14 Hyderabad\n",
      "15 Chennai\n",
      "16 Chennai\n",
      "17 New Delhi\n",
      "18 New Delhi\n",
      "19 Hyderabad\n"
     ]
    }
   ],
   "source": [
    "for index, city in enumerate(cityNames):\n",
    "    print(index, city)"
   ]
  },
  {
   "cell_type": "markdown",
   "id": "b3684aa9",
   "metadata": {},
   "source": [
    "## Get Unique City Names and assign index"
   ]
  },
  {
   "cell_type": "code",
   "execution_count": 3,
   "id": "6c10abf6",
   "metadata": {},
   "outputs": [
    {
     "data": {
      "text/plain": [
       "{'Banglore', 'Chennai', 'Hyderabad', 'Mumbai', 'New Delhi'}"
      ]
     },
     "execution_count": 3,
     "metadata": {},
     "output_type": "execute_result"
    }
   ],
   "source": [
    "set(cityNames)"
   ]
  },
  {
   "cell_type": "code",
   "execution_count": 4,
   "id": "50596460",
   "metadata": {},
   "outputs": [
    {
     "data": {
      "text/plain": [
       "{'New Delhi': 0, 'Mumbai': 1, 'Hyderabad': 2, 'Banglore': 3, 'Chennai': 4}"
      ]
     },
     "execution_count": 4,
     "metadata": {},
     "output_type": "execute_result"
    }
   ],
   "source": [
    "{city : index for index, city in enumerate(set(cityNames))}"
   ]
  },
  {
   "cell_type": "markdown",
   "id": "dff30445",
   "metadata": {},
   "source": [
    "## Create Dictionary to have all the indexes of each city"
   ]
  },
  {
   "cell_type": "code",
   "execution_count": 5,
   "id": "4562ca46",
   "metadata": {},
   "outputs": [
    {
     "data": {
      "text/plain": [
       "{'New Delhi': [], 'Mumbai': [], 'Hyderabad': [], 'Banglore': [], 'Chennai': []}"
      ]
     },
     "execution_count": 5,
     "metadata": {},
     "output_type": "execute_result"
    }
   ],
   "source": [
    "cityMapped = {city : [] for index, city in enumerate(set(cityNames))}\n",
    "cityMapped"
   ]
  },
  {
   "cell_type": "code",
   "execution_count": 6,
   "id": "e81570e2",
   "metadata": {},
   "outputs": [],
   "source": [
    "for inx,city in enumerate(cityNames):\n",
    "    cityMapped[city].append(inx)"
   ]
  },
  {
   "cell_type": "code",
   "execution_count": 7,
   "id": "3a303675",
   "metadata": {},
   "outputs": [
    {
     "data": {
      "text/plain": [
       "{'New Delhi': [5, 11, 17, 18],\n",
       " 'Mumbai': [4],\n",
       " 'Hyderabad': [3, 6, 12, 14, 19],\n",
       " 'Banglore': [1, 9],\n",
       " 'Chennai': [0, 2, 7, 8, 10, 13, 15, 16]}"
      ]
     },
     "execution_count": 7,
     "metadata": {},
     "output_type": "execute_result"
    }
   ],
   "source": [
    "cityMapped"
   ]
  }
 ],
 "metadata": {
  "kernelspec": {
   "display_name": "Python 3 (ipykernel)",
   "language": "python",
   "name": "python3"
  },
  "language_info": {
   "codemirror_mode": {
    "name": "ipython",
    "version": 3
   },
   "file_extension": ".py",
   "mimetype": "text/x-python",
   "name": "python",
   "nbconvert_exporter": "python",
   "pygments_lexer": "ipython3",
   "version": "3.11.5"
  }
 },
 "nbformat": 4,
 "nbformat_minor": 5
}
