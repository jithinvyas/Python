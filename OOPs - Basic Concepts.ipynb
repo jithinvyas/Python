{
 "cells": [
  {
   "cell_type": "raw",
   "id": "c709dea3",
   "metadata": {},
   "source": [
    "Object"
   ]
  },
  {
   "cell_type": "code",
   "execution_count": 11,
   "id": "fff08edf",
   "metadata": {},
   "outputs": [
    {
     "data": {
      "text/plain": [
       "7"
      ]
     },
     "execution_count": 11,
     "metadata": {},
     "output_type": "execute_result"
    }
   ],
   "source": [
    "7"
   ]
  },
  {
   "cell_type": "code",
   "execution_count": 16,
   "id": "bebabe6c",
   "metadata": {},
   "outputs": [],
   "source": [
    "'string' # this object from class 'str'"
   ]
  },
  {
   "cell_type": "code",
   "execution_count": 17,
   "id": "9a79bb7d",
   "metadata": {},
   "outputs": [
    {
     "data": {
      "text/plain": [
       "'STR'"
      ]
     },
     "execution_count": 17,
     "metadata": {},
     "output_type": "execute_result"
    }
   ],
   "source": [
    "d.upper()"
   ]
  },
  {
   "cell_type": "raw",
   "id": "e21ea1af",
   "metadata": {},
   "source": [
    "class list"
   ]
  },
  {
   "cell_type": "code",
   "execution_count": 1,
   "id": "1d9dbc21",
   "metadata": {},
   "outputs": [],
   "source": [
    "L1 = [1,2,3,4] # creating an instance of class list as a result \n",
    "            # I got object [1,2,3] assigned to variable L"
   ]
  },
  {
   "cell_type": "code",
   "execution_count": 5,
   "id": "040ca9e5",
   "metadata": {},
   "outputs": [],
   "source": [
    "C = 2"
   ]
  },
  {
   "cell_type": "code",
   "execution_count": 6,
   "id": "5f0efeef",
   "metadata": {},
   "outputs": [
    {
     "name": "stdout",
     "output_type": "stream",
     "text": [
      "<class 'int'>\n"
     ]
    }
   ],
   "source": [
    "print(type(C))"
   ]
  },
  {
   "cell_type": "code",
   "execution_count": 7,
   "id": "b7bf4215",
   "metadata": {},
   "outputs": [],
   "source": [
    "S = 'INSOFE'"
   ]
  },
  {
   "cell_type": "code",
   "execution_count": 49,
   "id": "7e3a9d11",
   "metadata": {},
   "outputs": [
    {
     "data": {
      "text/plain": [
       "'INSOFA'"
      ]
     },
     "execution_count": 49,
     "metadata": {},
     "output_type": "execute_result"
    }
   ],
   "source": [
    "S.replace('E','A') # string methods"
   ]
  },
  {
   "cell_type": "code",
   "execution_count": 47,
   "id": "2527c47f",
   "metadata": {},
   "outputs": [
    {
     "data": {
      "text/plain": [
       "'Titanic (1997)'"
      ]
     },
     "execution_count": 47,
     "metadata": {},
     "output_type": "execute_result"
    }
   ],
   "source": [
    "titanic.wiki_name()"
   ]
  },
  {
   "cell_type": "code",
   "execution_count": 8,
   "id": "9af576dc",
   "metadata": {},
   "outputs": [
    {
     "name": "stdout",
     "output_type": "stream",
     "text": [
      "<class 'str'>\n"
     ]
    }
   ],
   "source": [
    "print(type(S))"
   ]
  },
  {
   "cell_type": "code",
   "execution_count": 2,
   "id": "b21bcbb2",
   "metadata": {},
   "outputs": [
    {
     "name": "stdout",
     "output_type": "stream",
     "text": [
      "[1, 2, 3]\n"
     ]
    }
   ],
   "source": [
    "print(L)"
   ]
  },
  {
   "cell_type": "code",
   "execution_count": 3,
   "id": "c8c4664c",
   "metadata": {},
   "outputs": [
    {
     "name": "stdout",
     "output_type": "stream",
     "text": [
      "<class 'list'>\n"
     ]
    }
   ],
   "source": [
    "print(type(L))"
   ]
  },
  {
   "cell_type": "raw",
   "id": "deaaf5d5",
   "metadata": {},
   "source": [
    "str,int,list are builtin objects"
   ]
  },
  {
   "cell_type": "raw",
   "id": "519d655d",
   "metadata": {},
   "source": [
    "custom object - plot that you make in matplotlib"
   ]
  },
  {
   "cell_type": "raw",
   "id": "e6359c88",
   "metadata": {},
   "source": [
    "custom objects can be created by defining a class"
   ]
  },
  {
   "cell_type": "raw",
   "id": "00ddf051",
   "metadata": {},
   "source": [
    "classes are the basis of OOPs"
   ]
  },
  {
   "cell_type": "markdown",
   "id": "20faf639",
   "metadata": {},
   "source": [
    "## Object Oriented Programming\n",
    "\n",
    "\n",
    "Python is a multi-paradigm programming language. It supports different programming approaches.\n",
    "\n",
    "One of the popular approaches to solve a programming problem is by creating objects. This is known as Object-Oriented Programming (OOP).\n",
    "\n",
    "### Classes\n",
    "\n",
    "* __Classes__ provide a means of bundling __data__ and __functionality__ together. \n",
    "* Each class instance can have __attributes__ attached to it for _maintaining_ its __state__. \n",
    "* Class instances can also have __methods__ (defined by its class) for _modifying_ its __state__.\n",
    "* Creating a new class _creates_ a __new type__ of object, allowing new instances of that type to be made. \n",
    "\n",
    "Class is a blueprint or template for creating an object. No storage is assigned when we define a class.\n",
    "\n",
    "### Create an empty MovieBase class\n",
    "\n",
    "* Define a class by use the `class` keyword followed by the `<<class name>>` that you want to give to the class, and then a colon symbol `:`. \n",
    "\n",
    "* The class definition starts from the next line and it should be indented.\n",
    "\n",
    "### Object\n",
    "\n",
    "An object (instance) is an instantiation of a class. When class is defined, only the description for the object is defined. Therefore, no memory or storage is allocated."
   ]
  },
  {
   "cell_type": "raw",
   "id": "1168efab",
   "metadata": {},
   "source": [
    "class <classname>:\n",
    "    statements"
   ]
  },
  {
   "cell_type": "code",
   "execution_count": 4,
   "id": "2be92404",
   "metadata": {},
   "outputs": [],
   "source": [
    "class MovieBase: # header\n",
    "    pass # body"
   ]
  },
  {
   "cell_type": "raw",
   "id": "ca778219",
   "metadata": {},
   "source": [
    "def myfun:\n",
    "    pass"
   ]
  },
  {
   "cell_type": "raw",
   "id": "c7059352",
   "metadata": {},
   "source": [
    "myfun()"
   ]
  },
  {
   "cell_type": "code",
   "execution_count": 2,
   "id": "e55a8baa",
   "metadata": {},
   "outputs": [],
   "source": [
    "mv = MovieBase() # Test this after deleting the pass statement; A class cannot be empty"
   ]
  },
  {
   "cell_type": "markdown",
   "id": "a96571d8",
   "metadata": {},
   "source": [
    "__Object Name Naming Convention__: Object names should be lowercase, with words separated by underscores as necessary to improve readability."
   ]
  },
  {
   "cell_type": "markdown",
   "id": "ff0a1cde",
   "metadata": {},
   "source": [
    "### `self` \n",
    " \n",
    "Class methods must have an extra first parameter `self` in the method definition. We do not give a value for this parameter when we call the method, Python provides it.\n",
    "\n",
    "For e.g. \n",
    "\n",
    "```python \n",
    "class MyClass:\n",
    "    \n",
    "    def method(self, parm1, parm2):\n",
    "        pass\n",
    "\n",
    "my_obj = MyClass()\n",
    "my_obj.method(arg1, arg2)\n",
    "```\n",
    "\n",
    "When the method of the `my_obj` object is called i.e. `my_obj.method(arg1, arg2)`, it is automatically converted by Python into `MyClass.method(my_obj, arg1, arg2)`"
   ]
  },
  {
   "cell_type": "code",
   "execution_count": 5,
   "id": "47515275",
   "metadata": {},
   "outputs": [
    {
     "name": "stdout",
     "output_type": "stream",
     "text": [
      "<__main__.MovieBase object at 0x7fafb7b9dc70>\n",
      "<__main__.MovieBase object at 0x7fafb7b9dbe0>\n"
     ]
    }
   ],
   "source": [
    "movie_1 = MovieBase() # This is an instance of a class; An object is created\n",
    "movie_2 = MovieBase()\n",
    "\n",
    "print(movie_1)\n",
    "print(movie_2)\n",
    "\n",
    "# MovieBase is a class movie_1 and 2 are instances of the class\n",
    "\n",
    "# name, year and genre are attributes; movie_1.name is an instance of that attribute which is related to movie_1; "
   ]
  },
  {
   "cell_type": "code",
   "execution_count": 18,
   "id": "9b87454f",
   "metadata": {},
   "outputs": [],
   "source": [
    "class MovieBase:\n",
    "    \n",
    "    \"\"\"\n",
    "    A class to represent the movies that I have seen/heard of.\n",
    "    ...\n",
    "\n",
    "    Attributes\n",
    "    ----------\n",
    "    name : str\n",
    "        Name of the movie\n",
    "    year : str \n",
    "        year in whcih the movie was released\n",
    "    \n",
    "    genre : str\n",
    "        movie genre\n",
    "        \n",
    "    counrty:str\n",
    "        The country in which it was originaly produced\n",
    " \n",
    "\n",
    "    Methods\n",
    "    -------\n",
    "    Wiki_name()\n",
    "        Returns the name of the movie with year of release in brackets as in Wikipedia\n",
    "    \"\"\"\n",
    "    \n",
    "    def __init__ (self, name, year, genre): # __init__ method is within the class MovieBase\n",
    "                                                #initialize - self is the instance convention more than anything\n",
    "            \n",
    "        \"\"\"\n",
    "        Initialises movie attributes.\n",
    "\n",
    "        Parameters\n",
    "        ----------\n",
    "            name : str\n",
    "                Name of the movie\n",
    "            year : int\n",
    "                Year of release\n",
    "            genre : int\n",
    "                Major genre\n",
    "        \"\"\"\n",
    "        self.name = name # creating instance variables - attributes\n",
    "        self.year = year\n",
    "        self.genre = genre\n",
    "        self.concise = name+'; '+str(year)+'; '+genre"
   ]
  },
  {
   "cell_type": "markdown",
   "id": "9a646453",
   "metadata": {},
   "source": [
    "### method is a function present inside a class; __init__ is a method - the init method"
   ]
  },
  {
   "cell_type": "code",
   "execution_count": 36,
   "id": "e83f6482",
   "metadata": {},
   "outputs": [],
   "source": [
    "class Newspaper:\n",
    "    \n",
    "    def __init__ (self, name, language, city): \n",
    "            \n",
    "        self.name = name # creating instance variables - attributes\n",
    "        self.language = language\n",
    "        self.city = city\n",
    "        "
   ]
  },
  {
   "cell_type": "code",
   "execution_count": 37,
   "id": "646ce0c4",
   "metadata": {},
   "outputs": [],
   "source": [
    "Times = Newspaper('The Times Of India','English','Many')"
   ]
  },
  {
   "cell_type": "code",
   "execution_count": 38,
   "id": "5be48b57",
   "metadata": {},
   "outputs": [
    {
     "data": {
      "text/plain": [
       "'The Times Of India'"
      ]
     },
     "execution_count": 38,
     "metadata": {},
     "output_type": "execute_result"
    }
   ],
   "source": [
    "Times.name"
   ]
  },
  {
   "cell_type": "code",
   "execution_count": 19,
   "id": "64b18aea",
   "metadata": {},
   "outputs": [],
   "source": [
    "Titanic = MovieBase('Titanic',1997,'Disaster-Romance')"
   ]
  },
  {
   "cell_type": "raw",
   "id": "90743558",
   "metadata": {},
   "source": [
    "MovieBase(Titanic,'Titanic',1997,'Disaster-Romance')"
   ]
  },
  {
   "cell_type": "code",
   "execution_count": 22,
   "id": "1d633fdb",
   "metadata": {},
   "outputs": [
    {
     "name": "stdout",
     "output_type": "stream",
     "text": [
      "Disaster-Romance\n"
     ]
    }
   ],
   "source": [
    "print(Titanic.genre)"
   ]
  },
  {
   "cell_type": "code",
   "execution_count": 23,
   "id": "225e493f",
   "metadata": {},
   "outputs": [
    {
     "name": "stdout",
     "output_type": "stream",
     "text": [
      "<class '__main__.MovieBase'>\n"
     ]
    }
   ],
   "source": [
    "print(type(Titanic))"
   ]
  },
  {
   "cell_type": "code",
   "execution_count": 24,
   "id": "c7c47c20",
   "metadata": {},
   "outputs": [],
   "source": [
    "EngVing = MovieBase('Engish Vinglish',2012,'Comedy-Drama')"
   ]
  },
  {
   "cell_type": "code",
   "execution_count": 27,
   "id": "c03e80b3",
   "metadata": {},
   "outputs": [
    {
     "name": "stdout",
     "output_type": "stream",
     "text": [
      "Engish Vinglish; 2012; Comedy-Drama\n"
     ]
    }
   ],
   "source": [
    "print(EngVing.concise)"
   ]
  },
  {
   "cell_type": "code",
   "execution_count": 28,
   "id": "8b30b54c",
   "metadata": {},
   "outputs": [],
   "source": [
    "RRR = MovieBase('RRR',2022,'Historical Action Drama')"
   ]
  },
  {
   "cell_type": "code",
   "execution_count": 30,
   "id": "c7bfa4a4",
   "metadata": {},
   "outputs": [
    {
     "data": {
      "text/plain": [
       "'RRR; 2022; Historical Action Drama'"
      ]
     },
     "execution_count": 30,
     "metadata": {},
     "output_type": "execute_result"
    }
   ],
   "source": [
    "RRR.concise"
   ]
  },
  {
   "cell_type": "code",
   "execution_count": 31,
   "id": "4fe67b6c",
   "metadata": {},
   "outputs": [],
   "source": [
    "def twonums(num1,num2):\n",
    "    return num1*num2"
   ]
  },
  {
   "cell_type": "code",
   "execution_count": 35,
   "id": "036364a9",
   "metadata": {},
   "outputs": [
    {
     "data": {
      "text/plain": [
       "92"
      ]
     },
     "execution_count": 35,
     "metadata": {},
     "output_type": "execute_result"
    }
   ],
   "source": [
    "twonums(23,4)"
   ]
  },
  {
   "cell_type": "markdown",
   "id": "b9d1c2f1",
   "metadata": {},
   "source": [
    "__Method Names and Instance Vaiables Naming Convention__:\n",
    "\n",
    "* Lowercase with words separated by underscores as necessary to improve readability.\n",
    "\n",
    "__Function and Method Arguments Nameing Convention__:\n",
    "* Always use `self` for the first argument to `instance methods`.\n",
    "* Always use `cls` for the first argument to `class methods`.\n",
    "* If a function argument's name clashes with a reserved keyword, it is generally better to append a __single trailing underscore__ rather than use an abbreviation or spelling corruption. Thus class_ is better than clss. (Perhaps better is to avoid such clashes by using a synonym.)"
   ]
  },
  {
   "cell_type": "code",
   "execution_count": 9,
   "id": "b67a82e5",
   "metadata": {},
   "outputs": [
    {
     "name": "stdout",
     "output_type": "stream",
     "text": [
      "\n",
      "    A class to represent the movies that I have seen/heard of.\n",
      "    ...\n",
      "\n",
      "    Attributes\n",
      "    ----------\n",
      "    name : str\n",
      "        Name of the movie\n",
      "    year : str \n",
      "        year in whcih the movie was released\n",
      "    \n",
      "    genre : str\n",
      "        movie genre\n",
      "        \n",
      "    counrty:str\n",
      "        The country in which it was originaly produced\n",
      " \n",
      "\n",
      "    Methods\n",
      "    -------\n",
      "    Wiki_name()\n",
      "        Returns the name of the movie with year of release in brackets as in Wikipedia\n",
      "    \n"
     ]
    }
   ],
   "source": [
    "print(movie_1.__doc__)"
   ]
  },
  {
   "cell_type": "markdown",
   "id": "22b31462",
   "metadata": {},
   "source": [
    "Class vs Instance:\n",
    "    \n",
    "\n",
    "* Instance variables will have data which is specific to each instance. \n",
    "    * __Instance variables__ value is assigned inside a __constructor__ or __method__ with `self`. \n",
    "* __Class variables__ are variables whose value is assigned in __class__."
   ]
  },
  {
   "cell_type": "code",
   "execution_count": 43,
   "id": "02eb79b3",
   "metadata": {},
   "outputs": [],
   "source": [
    "class MovieBase:\n",
    "    \n",
    "    def __init__ (self, name, year, genre): \n",
    "            \n",
    "        self.name = name # creating instance variables - attributes\n",
    "        self.year = year\n",
    "        self.genre = genre\n",
    "        self.concise = name+'; '+str(year)+'; '+genre\n",
    "        \n",
    "    def wiki_name(self):\n",
    "        return '{} ({})'.format(self.name, self.year)"
   ]
  },
  {
   "cell_type": "code",
   "execution_count": 44,
   "id": "dac51a2c",
   "metadata": {},
   "outputs": [],
   "source": [
    "titanic = MovieBase('Titanic', 1997, 'Disaster-Romance')\n",
    "engving = MovieBase('English Vinglish', 2012, 'Comedy-Drama')"
   ]
  },
  {
   "cell_type": "code",
   "execution_count": 45,
   "id": "fe092660",
   "metadata": {},
   "outputs": [
    {
     "name": "stdout",
     "output_type": "stream",
     "text": [
      "Titanic; 1997; Disaster-Romance\n"
     ]
    }
   ],
   "source": [
    "print(titanic.concise) # here we are calling an attribute of an instance"
   ]
  },
  {
   "cell_type": "code",
   "execution_count": 46,
   "id": "876dd187",
   "metadata": {},
   "outputs": [
    {
     "name": "stdout",
     "output_type": "stream",
     "text": [
      "Titanic (1997)\n"
     ]
    }
   ],
   "source": [
    "print(titanic.wiki_name())"
   ]
  },
  {
   "cell_type": "code",
   "execution_count": 24,
   "id": "3337c71f",
   "metadata": {},
   "outputs": [
    {
     "name": "stdout",
     "output_type": "stream",
     "text": [
      "English Vinglish(2012)\n"
     ]
    }
   ],
   "source": [
    "print(movie_2.wiki_name()) # Use of paranthesis shows that this is a 'method'"
   ]
  },
  {
   "cell_type": "code",
   "execution_count": 26,
   "id": "20b7de13",
   "metadata": {},
   "outputs": [
    {
     "name": "stdout",
     "output_type": "stream",
     "text": [
      "English Vinglish(2012)\n"
     ]
    }
   ],
   "source": [
    "print(MovieBase.wiki_name(movie_2))"
   ]
  },
  {
   "cell_type": "code",
   "execution_count": 27,
   "id": "b3dd0de3",
   "metadata": {},
   "outputs": [
    {
     "name": "stdout",
     "output_type": "stream",
     "text": [
      "Titanic(1997)\n"
     ]
    }
   ],
   "source": [
    "print(MovieBase.wiki_name(movie_1))"
   ]
  },
  {
   "cell_type": "code",
   "execution_count": 54,
   "id": "3d8fd6e4",
   "metadata": {},
   "outputs": [],
   "source": [
    "# Class variables shared among all instances. ex - rating_correction\n",
    "\n",
    "class MovieBase:\n",
    "    \n",
    "    rating_correction = 0.3\n",
    "    \n",
    "    def __init__ (self, name, year, genre, rating): \n",
    "            \n",
    "        self.name = name # creating instance variables - attributes\n",
    "        self.year = year\n",
    "        self.genre = genre\n",
    "        self.concise = name+'; '+str(year)+'; '+genre\n",
    "        self.rating = rating\n",
    "        \n",
    "    def wiki_name(self):\n",
    "        return '{}({})'.format(self.name, self.year)\n",
    "    \n",
    "    def movie_score(self):\n",
    "        self.rating = self.rating + MovieBase.rating_correction"
   ]
  },
  {
   "cell_type": "code",
   "execution_count": 55,
   "id": "4cc83d46",
   "metadata": {},
   "outputs": [],
   "source": [
    "        \n",
    "        \n",
    "titanic = MovieBase('Titanic', 1997, 'Disaster-Romance', 2.5)\n",
    "engving = MovieBase('English Vinglish', 2012, 'Comedy-Drama',3.5)"
   ]
  },
  {
   "cell_type": "code",
   "execution_count": null,
   "id": "1e4254f1",
   "metadata": {},
   "outputs": [],
   "source": [
    "print(movie_1.rating)\n",
    "movie_1.movie_score()\n",
    "print(movie_1.rating)"
   ]
  },
  {
   "cell_type": "code",
   "execution_count": 56,
   "id": "79a6f403",
   "metadata": {},
   "outputs": [
    {
     "name": "stdout",
     "output_type": "stream",
     "text": [
      "0.3\n"
     ]
    }
   ],
   "source": [
    "print(MovieBase.rating_correction)"
   ]
  },
  {
   "cell_type": "code",
   "execution_count": 57,
   "id": "876ef999",
   "metadata": {},
   "outputs": [
    {
     "name": "stdout",
     "output_type": "stream",
     "text": [
      "0.3\n"
     ]
    }
   ],
   "source": [
    "print(titanic.rating_correction)"
   ]
  },
  {
   "cell_type": "code",
   "execution_count": 58,
   "id": "a342f1e8",
   "metadata": {},
   "outputs": [
    {
     "name": "stdout",
     "output_type": "stream",
     "text": [
      "0.3\n"
     ]
    }
   ],
   "source": [
    "print(engving.rating_correction)"
   ]
  },
  {
   "cell_type": "code",
   "execution_count": 59,
   "id": "d733b276",
   "metadata": {},
   "outputs": [
    {
     "name": "stdout",
     "output_type": "stream",
     "text": [
      "Titanic\n"
     ]
    }
   ],
   "source": [
    "print(titanic.name)"
   ]
  },
  {
   "cell_type": "code",
   "execution_count": 60,
   "id": "7e1fc387",
   "metadata": {},
   "outputs": [
    {
     "name": "stdout",
     "output_type": "stream",
     "text": [
      "English Vinglish\n"
     ]
    }
   ],
   "source": [
    "print(engving.name)"
   ]
  },
  {
   "cell_type": "code",
   "execution_count": 15,
   "id": "9abc3a84",
   "metadata": {},
   "outputs": [
    {
     "name": "stdout",
     "output_type": "stream",
     "text": [
      "0.4\n",
      "0.4\n",
      "0.4\n"
     ]
    }
   ],
   "source": [
    "MovieBase.rating_correction = 0.4\n",
    "\n",
    "print(MovieBase.rating_correction)\n",
    "print(movie_1.rating_correction)\n",
    "print(movie_2.rating_correction)\n"
   ]
  },
  {
   "cell_type": "code",
   "execution_count": 61,
   "id": "5b0fa1b9",
   "metadata": {},
   "outputs": [],
   "source": [
    "class MovieBase:\n",
    "    \n",
    "    rating_correction = 0.3\n",
    "    \n",
    "    def __init__ (self, name, year, genre, rating): \n",
    "            \n",
    "        self.name = name # creating instance variables - attributes\n",
    "        self.year = year\n",
    "        self.genre = genre\n",
    "        self.concise = name+'; '+str(year)+'; '+genre\n",
    "        self.rating = rating\n",
    "        \n",
    "    def wiki_name(self):\n",
    "        return '{}({})'.format(self.name, self.year)\n",
    "    \n",
    "    def movie_score(self):\n",
    "        self.rating = self.rating + MovieBase.rating_correction\n",
    "        \n",
    "    @classmethod\n",
    "    def adjust_score(cls, correction):\n",
    "        cls.rating_correction = correction"
   ]
  },
  {
   "cell_type": "code",
   "execution_count": 63,
   "id": "0364c9e7",
   "metadata": {},
   "outputs": [],
   "source": [
    "        \n",
    "        \n",
    "movie_1 = MovieBase('Titanic', 1997, 'Disaster-Romance', 2.5)\n",
    "movie_2 = MovieBase('English Vinglish', 2012, 'Comedy-Drama',3.5)"
   ]
  },
  {
   "cell_type": "code",
   "execution_count": 64,
   "id": "64f379bc",
   "metadata": {},
   "outputs": [],
   "source": [
    "MovieBase.adjust_score(0.5)"
   ]
  },
  {
   "cell_type": "code",
   "execution_count": 65,
   "id": "cc041aef",
   "metadata": {},
   "outputs": [
    {
     "name": "stdout",
     "output_type": "stream",
     "text": [
      "0.5\n",
      "0.5\n",
      "0.5\n"
     ]
    }
   ],
   "source": [
    "print(MovieBase.rating_correction)\n",
    "print(movie_1.rating_correction)\n",
    "print(movie_2.rating_correction)"
   ]
  },
  {
   "cell_type": "markdown",
   "id": "017d64ad",
   "metadata": {},
   "source": [
    "#### Class Inheritance\n",
    "\n",
    "The class which inherits the properties of other is known as subclass (derived class, child class) and the class whose properties are inherited is known as superclass (base class, parent class)."
   ]
  },
  {
   "cell_type": "code",
   "execution_count": null,
   "id": "148d94f3",
   "metadata": {},
   "outputs": [],
   "source": [
    "# class WatchedMovie:\n",
    "#     def __init__(self,name,year, genre)"
   ]
  },
  {
   "cell_type": "raw",
   "id": "c45ca7a2",
   "metadata": {},
   "source": [
    "class MovieBase:\n",
    "    pass"
   ]
  },
  {
   "cell_type": "code",
   "execution_count": 68,
   "id": "66b3d4f2",
   "metadata": {},
   "outputs": [],
   "source": [
    "class WatchedMovie(MovieBase):\n",
    "    pass"
   ]
  },
  {
   "cell_type": "code",
   "execution_count": 69,
   "id": "488525c0",
   "metadata": {},
   "outputs": [],
   "source": [
    "Hobbit1 = WatchedMovie(\"Hobbit:FiveArmies\",\"HighFantasy\", 2014, 4.5, 300, 965)\n",
    "Hobbit2 = WatchedMovie(\"Hobbit:Desolation of Smaug\",\"High Fantasy\", 2013, 4.5, 250, 959)"
   ]
  },
  {
   "cell_type": "code",
   "execution_count": 70,
   "id": "bfe34444",
   "metadata": {},
   "outputs": [
    {
     "data": {
      "text/plain": [
       "'Hobbit:FiveArmies'"
      ]
     },
     "execution_count": 70,
     "metadata": {},
     "output_type": "execute_result"
    }
   ],
   "source": [
    "Hobbit1.name"
   ]
  },
  {
   "cell_type": "code",
   "execution_count": 58,
   "id": "7439010b",
   "metadata": {},
   "outputs": [
    {
     "name": "stdout",
     "output_type": "stream",
     "text": [
      "Hit\n"
     ]
    },
    {
     "data": {
      "text/plain": [
       "4.5"
      ]
     },
     "execution_count": 58,
     "metadata": {},
     "output_type": "execute_result"
    }
   ],
   "source": [
    "print(WatchedMovie_2.reception)\n",
    "WatchedMovie.wiki_name(WatchedMovie_2)\n",
    "WatchedMovie_2.rating"
   ]
  },
  {
   "cell_type": "code",
   "execution_count": 60,
   "id": "f567174a",
   "metadata": {},
   "outputs": [],
   "source": [
    "# If we want to add another attribute to this\n",
    "\n",
    "class WatchedMovie(MovieBase):\n",
    "    def __init__ (self, name, genre, year, rating, budget, boxoffice, comment):\n",
    "        \n",
    "        super().__init__(name, genre, year, rating, budget, boxoffice)\n",
    "        self.comment = comment\n",
    "        #MovieBase.__init__(name,genre,year,rating,budget,boxoffice)"
   ]
  },
  {
   "cell_type": "code",
   "execution_count": 61,
   "id": "15987762",
   "metadata": {},
   "outputs": [],
   "source": [
    "WatchedMovie_1 = WatchedMovie('Sivaji:The Boss','Action', 2007, 4.5, 60, 120, \"Perfect\")"
   ]
  },
  {
   "cell_type": "code",
   "execution_count": 63,
   "id": "21f4356c",
   "metadata": {},
   "outputs": [
    {
     "data": {
      "text/plain": [
       "'Perfect'"
      ]
     },
     "execution_count": 63,
     "metadata": {},
     "output_type": "execute_result"
    }
   ],
   "source": [
    "WatchedMovie_1.comment"
   ]
  },
  {
   "cell_type": "markdown",
   "id": "f7cbcc59",
   "metadata": {},
   "source": [
    "#### Types of Inheritance\n",
    "\n",
    "In Python, there are two types of Inheritance:\n",
    "\n",
    "1. Multiple Inheritance\n",
    "2. Multilevel Inheritance"
   ]
  },
  {
   "cell_type": "code",
   "execution_count": 49,
   "id": "446e8b47",
   "metadata": {},
   "outputs": [],
   "source": [
    "class A:\n",
    "    pass\n",
    "    # variable of class A\n",
    "    # methods of class A\n",
    "\n",
    "class B:\n",
    "    pass\n",
    "    # variable of class B\n",
    "    # methods of class B\n",
    "\n",
    "class C(A, B):\n",
    "    pass\n",
    "    # class C inheriting property of both class A and B\n",
    "    # add more properties to class C"
   ]
  },
  {
   "cell_type": "markdown",
   "id": "002c73ed",
   "metadata": {},
   "source": [
    "#### Multilevel Inheritance\n",
    "\n",
    "In multilevel inheritance, we inherit the classes at multiple separate levels."
   ]
  },
  {
   "cell_type": "code",
   "execution_count": 50,
   "id": "b644856d",
   "metadata": {},
   "outputs": [],
   "source": [
    "class A:\n",
    "    pass\n",
    "    # properties of class A\n",
    "\n",
    "class B(A):\n",
    "    pass\n",
    "    # class B inheriting property of class A\n",
    "    # more properties of class B\n",
    "\n",
    "class C(B):\n",
    "    pass\n",
    "    # class C inheriting property of class B\n",
    "    # thus, class C also inherits properties of class A\n",
    "    # more properties of class C"
   ]
  },
  {
   "cell_type": "code",
   "execution_count": 82,
   "id": "ae902932",
   "metadata": {},
   "outputs": [],
   "source": [
    "class MovieBase:\n",
    "    \n",
    "    def __init__ (self, name, genre, year): \n",
    "            \n",
    "        self.name = name \n",
    "        self.year = year\n",
    "        self.genre = genre\n",
    "        self.concise = name+'; '+str(year)+'; '+genre\n",
    "\n",
    "        \n",
    "titanic = MovieBase('Titanic','Disaster-Romance', 1997)\n",
    "EngVing = MovieBase('English Vinglish','Comedy-Drama', 2012)"
   ]
  },
  {
   "cell_type": "code",
   "execution_count": 88,
   "id": "485081b3",
   "metadata": {},
   "outputs": [],
   "source": [
    " class MovieBase:\n",
    "    \n",
    "    def __init__ (self, name, genre, year, country): \n",
    "            \n",
    "        self.name = name \n",
    "        self.year = year\n",
    "        self.genre = genre\n",
    "        self.country = country\n",
    "        self.concise = name+'; '+str(year)+'; '+genre\n",
    "        \n",
    "    def __repr__(self):\n",
    "        return \"Movie('{}', '{}', {})\".format(self.name, self.year, self.genre)\n",
    "    \n",
    "    def __str__(self):\n",
    "        return \"{} is a/an {} {} film released in {}.\". format(self.name, self.country, self.genre, self.year)\n",
    "    \n",
    "    def wiki_name(self):\n",
    "        pass\n",
    "    def hit_flop(self,budget,boxoffice):\n",
    "        pass\n",
    "    \n",
    "    @classmethod\n",
    "    def from_strs(cls):\n",
    "        pass\n",
    "    \n",
    "    @staticmethod\n",
    "    def weedkay(day):\n",
    "        pass\n",
    "            \n",
    "titanic = MovieBase('Titanic','Disaster-Romance', 1997, \"American\")\n",
    "engving = MovieBase('English Vinglish','Comedy-Drama', 2012, \"Indian\")"
   ]
  },
  {
   "cell_type": "code",
   "execution_count": 89,
   "id": "e6ccdfac",
   "metadata": {},
   "outputs": [
    {
     "name": "stdout",
     "output_type": "stream",
     "text": [
      "<__main__.MovieBase object at 0x7fafb7bb5640>\n",
      "<__main__.MovieBase object at 0x7fafb7bb5e20>\n"
     ]
    }
   ],
   "source": [
    "print(titanic)\n",
    "print(engving)"
   ]
  },
  {
   "cell_type": "markdown",
   "id": "12a656e8",
   "metadata": {},
   "source": [
    "### Method Overriding in Python\n",
    "\n",
    "Method overriding is a concept of object oriented programming that allows us to change the implementation of a function in the child class that is defined in the parent class. It is the ability of a child class to change the implementation of any method which is already provided by one of its parent class(ancestors).\n",
    "\n",
    "Following conditions must be met for overriding a function:\n",
    "* Inheritance should be there. Function overriding cannot be done within a class. We need to derive a child class from a parent class.\n",
    "* The function that is redefined in the child class should have the same signature as in the parent class i.e. same number of parameters."
   ]
  },
  {
   "cell_type": "code",
   "execution_count": 90,
   "id": "7587996f",
   "metadata": {},
   "outputs": [
    {
     "name": "stdout",
     "output_type": "stream",
     "text": [
      "I eat only plants. I am vegetarian.\n",
      "I breathe oxygen.\n"
     ]
    }
   ],
   "source": [
    "# parent class\n",
    "\n",
    "class Animal:\n",
    "    \n",
    "    # function breath\n",
    "    def breathe(self):\n",
    "        print(\"I breathe oxygen.\")\n",
    "    \n",
    "    # function feed\n",
    "    def feed(self):\n",
    "        print(\"I eat food.\")\n",
    "\n",
    "# child class\n",
    "\n",
    "class Herbivorous(Animal):\n",
    "    \n",
    "    # function feed\n",
    "    def feed(self):\n",
    "        print(\"I eat only plants. I am vegetarian.\")\n",
    "    \n",
    "        \n",
    "herbi = Herbivorous()\n",
    "\n",
    "herbi.feed()\n",
    "\n",
    "herbi.breathe()"
   ]
  },
  {
   "cell_type": "code",
   "execution_count": null,
   "id": "53164ed0",
   "metadata": {},
   "outputs": [],
   "source": []
  },
  {
   "cell_type": "code",
   "execution_count": null,
   "id": "a74e453f",
   "metadata": {},
   "outputs": [],
   "source": []
  }
 ],
 "metadata": {
  "kernelspec": {
   "display_name": "Python 3 (ipykernel)",
   "language": "python",
   "name": "python3"
  },
  "language_info": {
   "codemirror_mode": {
    "name": "ipython",
    "version": 3
   },
   "file_extension": ".py",
   "mimetype": "text/x-python",
   "name": "python",
   "nbconvert_exporter": "python",
   "pygments_lexer": "ipython3",
   "version": "3.8.8"
  }
 },
 "nbformat": 4,
 "nbformat_minor": 5
}
