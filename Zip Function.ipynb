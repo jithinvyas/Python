{
 "cells": [
  {
   "cell_type": "markdown",
   "id": "24ad9a1b",
   "metadata": {},
   "source": [
    "# List"
   ]
  },
  {
   "cell_type": "code",
   "execution_count": 1,
   "id": "b5229f25",
   "metadata": {},
   "outputs": [
    {
     "data": {
      "text/plain": [
       "[('P', 1, 101), ('Q', 2, 102), ('R', 3, 103), ('S', 4, 104)]"
      ]
     },
     "execution_count": 1,
     "metadata": {},
     "output_type": "execute_result"
    }
   ],
   "source": [
    "list(zip('PQRS', range(1,5), range(101,110)))"
   ]
  },
  {
   "cell_type": "code",
   "execution_count": 2,
   "id": "4b7716b3",
   "metadata": {},
   "outputs": [],
   "source": [
    "lst1 = ['Name-1','Name-2','Name-3']\n",
    "lst2 = ['ABCD','EFGH','IJKL']      # List1 & 2 are iterables."
   ]
  },
  {
   "cell_type": "code",
   "execution_count": 3,
   "id": "19c2702e",
   "metadata": {},
   "outputs": [
    {
     "data": {
      "text/plain": [
       "<zip at 0x1595c165ac0>"
      ]
     },
     "execution_count": 3,
     "metadata": {},
     "output_type": "execute_result"
    }
   ],
   "source": [
    "outlst = zip(lst1,lst2)\n",
    "outlst"
   ]
  },
  {
   "cell_type": "code",
   "execution_count": 4,
   "id": "4673fa06",
   "metadata": {},
   "outputs": [
    {
     "data": {
      "text/plain": [
       "[('Name-1', 'ABCD'), ('Name-2', 'EFGH'), ('Name-3', 'IJKL')]"
      ]
     },
     "execution_count": 4,
     "metadata": {},
     "output_type": "execute_result"
    }
   ],
   "source": [
    "list(outlst)"
   ]
  },
  {
   "cell_type": "code",
   "execution_count": 5,
   "id": "687bfe19",
   "metadata": {},
   "outputs": [
    {
     "data": {
      "text/plain": [
       "('Name-1', 'ABCD')"
      ]
     },
     "execution_count": 5,
     "metadata": {},
     "output_type": "execute_result"
    }
   ],
   "source": [
    "outlst = zip(lst1,lst2)\n",
    "next(outlst)           #---> Zip object is an Iterator"
   ]
  },
  {
   "cell_type": "code",
   "execution_count": 6,
   "id": "3fc657f3",
   "metadata": {},
   "outputs": [],
   "source": [
    "lst1 = ['Name-1','Name-2','Name-3']\n",
    "lst2 = ['ABCD','EFGH','IJKL']\n",
    "lst3 = [1,2,3,]"
   ]
  },
  {
   "cell_type": "code",
   "execution_count": 7,
   "id": "f6adbe9c",
   "metadata": {},
   "outputs": [
    {
     "name": "stdout",
     "output_type": "stream",
     "text": [
      "('Name-1', 'ABCD', 1)\n",
      "[('Name-2', 'EFGH', 2), ('Name-3', 'IJKL', 3)]\n"
     ]
    }
   ],
   "source": [
    "outlst1 = zip(lst1,lst2,lst3)\n",
    "print(next(outlst1))\n",
    "print(list(outlst1) )        #---> Zip object is an Iterator"
   ]
  },
  {
   "cell_type": "code",
   "execution_count": 8,
   "id": "6fc07ea4",
   "metadata": {},
   "outputs": [
    {
     "name": "stdout",
     "output_type": "stream",
     "text": [
      "Name-1 ABCD 1\n",
      "Name-2 EFGH 2\n",
      "Name-3 IJKL 3\n"
     ]
    }
   ],
   "source": [
    "outlst1 = zip(lst1,lst2,lst3)\n",
    "for a,b,c in outlst1:\n",
    "    print(a,b,c)"
   ]
  },
  {
   "cell_type": "markdown",
   "id": "3cc8224e",
   "metadata": {},
   "source": [
    "# Dictionary"
   ]
  },
  {
   "cell_type": "code",
   "execution_count": 9,
   "id": "4b4d1937",
   "metadata": {},
   "outputs": [],
   "source": [
    "dict1 = {'fName':'Abhishek', 'lName':'Sharma', 'Age':23}\n",
    "dict2 = {'fName':'Virat', 'lName':'Kohli', 'Age':33}     # Iterables"
   ]
  },
  {
   "cell_type": "code",
   "execution_count": 10,
   "id": "9aa81088",
   "metadata": {},
   "outputs": [
    {
     "data": {
      "text/plain": [
       "<zip at 0x1595c0d06c0>"
      ]
     },
     "execution_count": 10,
     "metadata": {},
     "output_type": "execute_result"
    }
   ],
   "source": [
    "dictionary = zip(dict1.items(),dict2.items())\n",
    "dictionary"
   ]
  },
  {
   "cell_type": "code",
   "execution_count": 11,
   "id": "72f3b84b",
   "metadata": {},
   "outputs": [
    {
     "data": {
      "text/plain": [
       "(dict_items([('fName', 'Abhishek'), ('lName', 'Sharma'), ('Age', 23)]),\n",
       " dict_items([('fName', 'Virat'), ('lName', 'Kohli'), ('Age', 33)]))"
      ]
     },
     "execution_count": 11,
     "metadata": {},
     "output_type": "execute_result"
    }
   ],
   "source": [
    "dict1.items(),dict2.items()"
   ]
  },
  {
   "cell_type": "code",
   "execution_count": 12,
   "id": "f873e921",
   "metadata": {},
   "outputs": [
    {
     "data": {
      "text/plain": [
       "(('fName', 'Abhishek'), ('fName', 'Virat'))"
      ]
     },
     "execution_count": 12,
     "metadata": {},
     "output_type": "execute_result"
    }
   ],
   "source": [
    "next(dictionary)"
   ]
  },
  {
   "cell_type": "code",
   "execution_count": 13,
   "id": "3ffd272d",
   "metadata": {},
   "outputs": [
    {
     "name": "stdout",
     "output_type": "stream",
     "text": [
      "fName Abhishek\n",
      "fName Virat\n",
      "\n",
      "lName Sharma\n",
      "lName Kohli\n",
      "\n",
      "Age 23\n",
      "Age 33\n",
      "\n"
     ]
    }
   ],
   "source": [
    "dictionary = zip(dict1.items(),dict2.items())  # Iterator\n",
    "for (p,q),(x,y) in dictionary:\n",
    "    print(p,q)\n",
    "    print(x,y)\n",
    "    print()"
   ]
  },
  {
   "cell_type": "code",
   "execution_count": 14,
   "id": "82a4fa53",
   "metadata": {},
   "outputs": [
    {
     "ename": "StopIteration",
     "evalue": "",
     "output_type": "error",
     "traceback": [
      "\u001b[1;31m---------------------------------------------------------------------------\u001b[0m",
      "\u001b[1;31mStopIteration\u001b[0m                             Traceback (most recent call last)",
      "Cell \u001b[1;32mIn[14], line 1\u001b[0m\n\u001b[1;32m----> 1\u001b[0m \u001b[38;5;28mnext\u001b[39m(dictionary)\n",
      "\u001b[1;31mStopIteration\u001b[0m: "
     ]
    }
   ],
   "source": [
    "next(dictionary) # iteration completed above"
   ]
  },
  {
   "cell_type": "code",
   "execution_count": null,
   "id": "5686cae5",
   "metadata": {},
   "outputs": [],
   "source": []
  }
 ],
 "metadata": {
  "kernelspec": {
   "display_name": "Python 3 (ipykernel)",
   "language": "python",
   "name": "python3"
  },
  "language_info": {
   "codemirror_mode": {
    "name": "ipython",
    "version": 3
   },
   "file_extension": ".py",
   "mimetype": "text/x-python",
   "name": "python",
   "nbconvert_exporter": "python",
   "pygments_lexer": "ipython3",
   "version": "3.11.5"
  }
 },
 "nbformat": 4,
 "nbformat_minor": 5
}
