{
 "cells": [
  {
   "cell_type": "markdown",
   "id": "1fbe8d1b-d5cd-4fd2-b9ee-9d4a5c6aafba",
   "metadata": {},
   "source": [
    "## String Length Increase"
   ]
  },
  {
   "cell_type": "code",
   "execution_count": 55,
   "id": "be4ca8c5-6209-4578-8deb-949318508448",
   "metadata": {},
   "outputs": [
    {
     "name": "stdout",
     "output_type": "stream",
     "text": [
      "HHHeeellllllooo\n"
     ]
    }
   ],
   "source": [
    "string = \"Hello\"\n",
    "out=''\n",
    "for i in string:\n",
    "    out = out+i*3\n",
    "print(out)"
   ]
  },
  {
   "cell_type": "code",
   "execution_count": 22,
   "id": "3814b0ad-8d23-4461-b255-3f87e81d394f",
   "metadata": {},
   "outputs": [
    {
     "data": {
      "text/plain": [
       "'HHHeeellllllooo'"
      ]
     },
     "execution_count": 22,
     "metadata": {},
     "output_type": "execute_result"
    }
   ],
   "source": [
    "string = \"Hello\"\n",
    "\n",
    "def recursive_string(s,n):\n",
    "    if not s:\n",
    "        return ''\n",
    "    return s[0]*n+recursive_string(s[1:],n)\n",
    "\n",
    "recursive_string(string,3)"
   ]
  },
  {
   "cell_type": "markdown",
   "id": "7334d534-493e-4663-b21f-d400a0b92337",
   "metadata": {},
   "source": [
    "## len function using Recursion"
   ]
  },
  {
   "cell_type": "code",
   "execution_count": 23,
   "id": "1b9d665c-c71e-49a1-80a5-c2a3702a207d",
   "metadata": {},
   "outputs": [
    {
     "data": {
      "text/plain": [
       "3"
      ]
     },
     "execution_count": 23,
     "metadata": {},
     "output_type": "execute_result"
    }
   ],
   "source": [
    "arr = [51,'asd','121']\n",
    "\n",
    "def recursive_length(arr):\n",
    "    if not arr:\n",
    "        return 0\n",
    "    return 1+recursive_length(arr[1:])\n",
    "\n",
    "recursive_length(arr)"
   ]
  },
  {
   "cell_type": "markdown",
   "id": "b293f28a-c4e1-4ca2-b2ea-8e0299406b27",
   "metadata": {},
   "source": [
    "## K repeated elements"
   ]
  },
  {
   "cell_type": "code",
   "execution_count": 37,
   "id": "e1c0b184-4df9-4509-b4c0-7c82101bfb3d",
   "metadata": {},
   "outputs": [
    {
     "name": "stdout",
     "output_type": "stream",
     "text": [
      "{1, 2, 3}\n"
     ]
    }
   ],
   "source": [
    "lst = [1,2,2,2,2,2,1,3,1,3,4]  #[1,2,3]\n",
    "d={}\n",
    "res = set()\n",
    "k=2\n",
    "for i in lst:\n",
    "    if i not in d.keys():\n",
    "        d[i]=0\n",
    "    d[i]+=1\n",
    "\n",
    "    if d[i]>=k:\n",
    "        res.add(i)\n",
    "print(res)"
   ]
  },
  {
   "cell_type": "markdown",
   "id": "0ba79a53-6bac-435b-8a8d-ea86d19e0a68",
   "metadata": {},
   "source": [
    "## N-th highest element"
   ]
  },
  {
   "cell_type": "code",
   "execution_count": 54,
   "id": "b19aba3c-c4db-4e10-bed4-1b7fd496237f",
   "metadata": {},
   "outputs": [
    {
     "data": {
      "text/plain": [
       "4"
      ]
     },
     "execution_count": 54,
     "metadata": {},
     "output_type": "execute_result"
    }
   ],
   "source": [
    "asd = [5,1,4,2,3,10]\n",
    "def nth_highest(lst,n):\n",
    "    for i in range(len(lst)-1,0,-1):\n",
    "        for j in range(i):\n",
    "            if lst[j]<lst[j+1]:\n",
    "                lst[j],lst[j+1]=lst[j+1],lst[j]\n",
    "\n",
    "    return lst[n-1]\n",
    "    \n",
    "nth_highest(asd,3)"
   ]
  },
  {
   "cell_type": "markdown",
   "id": "354bda44-a0e0-4a54-8280-4dbde8b62244",
   "metadata": {},
   "source": [
    "## Reversing a string without slicing"
   ]
  },
  {
   "cell_type": "code",
   "execution_count": 15,
   "id": "6609f374-44d4-4a5c-a601-30c32f480ccd",
   "metadata": {},
   "outputs": [
    {
     "data": {
      "text/plain": [
       "'margorp nohtyp'"
      ]
     },
     "execution_count": 15,
     "metadata": {},
     "output_type": "execute_result"
    }
   ],
   "source": [
    "word = 'python program'\n",
    "# word[::-1]\n",
    "def reverse\n",
    "lst = [i for i in word]\n",
    "lst.reverse()\n",
    "res = ''.join(lst)\n",
    "res"
   ]
  },
  {
   "cell_type": "code",
   "execution_count": 6,
   "id": "bf754cb3-9392-4867-a30f-7bc5c5974238",
   "metadata": {},
   "outputs": [
    {
     "name": "stdout",
     "output_type": "stream",
     "text": [
      "margorp nohtyp"
     ]
    }
   ],
   "source": [
    "word = 'python program'\n",
    "for i in range(len(word)-1, -1, -1): # reversing\n",
    "    print(word[i], end='')"
   ]
  },
  {
   "cell_type": "code",
   "execution_count": 22,
   "id": "40ba3f88-a8c8-4a48-a98e-65ed70a4c4fe",
   "metadata": {},
   "outputs": [
    {
     "data": {
      "text/plain": [
       "'margorp nohtyp'"
      ]
     },
     "execution_count": 22,
     "metadata": {},
     "output_type": "execute_result"
    }
   ],
   "source": [
    "lst=[]\n",
    "word = 'python program'\n",
    "for i in reversed(word):  # returns a reversed iterator object.\n",
    "    lst.append(i)\n",
    "''.join(lst)"
   ]
  },
  {
   "cell_type": "markdown",
   "id": "89f3dad0-be46-4c3a-b7e4-66f8a3d65feb",
   "metadata": {},
   "source": [
    "## Fibonacci Series"
   ]
  },
  {
   "cell_type": "code",
   "execution_count": 121,
   "id": "80309096-229c-4511-b306-209ef258b7d3",
   "metadata": {},
   "outputs": [
    {
     "data": {
      "text/plain": [
       "[0, 1, 1, 2, 3]"
      ]
     },
     "execution_count": 121,
     "metadata": {},
     "output_type": "execute_result"
    }
   ],
   "source": [
    "def fib1(n):\n",
    "    a,b = 0,1\n",
    "    lst=[]\n",
    "    for i in range(n):\n",
    "        lst.append(a)\n",
    "        a,b = b, a+b\n",
    "    return lst\n",
    "\n",
    "fib1(5)"
   ]
  },
  {
   "cell_type": "code",
   "execution_count": 122,
   "id": "5fc442ed-99bb-4d53-a48f-9cc73054f662",
   "metadata": {},
   "outputs": [
    {
     "data": {
      "text/plain": [
       "[0, 1, 1, 2, 3, 5, 8, 13, 21, 34]"
      ]
     },
     "execution_count": 122,
     "metadata": {},
     "output_type": "execute_result"
    }
   ],
   "source": [
    "def fib2(n):\n",
    "\n",
    "    if not isinstance(n, int):\n",
    "        raise TypeError('Input must be an integer') ## Error Handling\n",
    "        \n",
    "    lst=[0,1]\n",
    "    if n<=0:\n",
    "        return []                                   ## Return empty list\n",
    "    if n==1:\n",
    "        return[0]\n",
    "    elif n==2:\n",
    "        return lst\n",
    "    else:\n",
    "        for i in range(2,n):\n",
    "            lst.append(lst[-1]+lst[-2])             ## Add last 2 integers\n",
    "        return lst\n",
    "        \n",
    "fib2(10)"
   ]
  },
  {
   "cell_type": "markdown",
   "id": "c9fd7d6d-f85e-4259-b208-8f0cc27260c1",
   "metadata": {},
   "source": [
    "## Recursion"
   ]
  },
  {
   "cell_type": "code",
   "execution_count": 123,
   "id": "4655e4d5-1b3a-4b45-b22c-3dd1277cce07",
   "metadata": {},
   "outputs": [
    {
     "data": {
      "text/plain": [
       "6"
      ]
     },
     "execution_count": 123,
     "metadata": {},
     "output_type": "execute_result"
    }
   ],
   "source": [
    "def add_natural(n):\n",
    "    if n == 0:\n",
    "        return 0\n",
    "    return n + add_natural(n-1)\n",
    "    \n",
    "add_natural(3)"
   ]
  },
  {
   "cell_type": "code",
   "execution_count": 119,
   "id": "9e1048c2-3f3c-4295-a7c4-8448bb6140f2",
   "metadata": {},
   "outputs": [
    {
     "data": {
      "text/plain": [
       "[0, 1, 1, 2, 3, 5]"
      ]
     },
     "execution_count": 119,
     "metadata": {},
     "output_type": "execute_result"
    }
   ],
   "source": [
    "def fibonacci(n):\n",
    "    if n<=1:\n",
    "        return n\n",
    "    if n==2:\n",
    "        return 1\n",
    "    else:\n",
    "        return fibonacci(n-1) + fibonacci(n-2)    # ISSUE:- Exponential Time Complexity, O(2ⁿ)\n",
    "\n",
    "\n",
    "n=6\n",
    "lst=[]\n",
    "for i in range(n):\n",
    "    lst.append(fibonacci(i))\n",
    "lst"
   ]
  },
  {
   "cell_type": "code",
   "execution_count": 28,
   "id": "e2d2b8d2-713b-4a94-81da-c72fbd9f42c9",
   "metadata": {},
   "outputs": [],
   "source": [
    "# fibonacci(5) = fibonacci(4) + fibonacci(3)\n",
    "#               = (fibonacci(3) + fibonacci(2)) + (fibonacci(2) + fibonacci(1))\n",
    "#               = ((fibonacci(2) + fibonacci(1)) + 1) + (1 + 1)\n",
    "#               = ((1 + 1) + 1) + (1 + 1)\n",
    "#               = (2 + 1) + (1 + 1)\n",
    "#               = 3 + 2\n",
    "#               = 5\n",
    "\n",
    "# hence, fibonacci(5) = 5."
   ]
  }
 ],
 "metadata": {
  "kernelspec": {
   "display_name": "Python 3 (ipykernel)",
   "language": "python",
   "name": "python3"
  },
  "language_info": {
   "codemirror_mode": {
    "name": "ipython",
    "version": 3
   },
   "file_extension": ".py",
   "mimetype": "text/x-python",
   "name": "python",
   "nbconvert_exporter": "python",
   "pygments_lexer": "ipython3",
   "version": "3.12.7"
  }
 },
 "nbformat": 4,
 "nbformat_minor": 5
}
