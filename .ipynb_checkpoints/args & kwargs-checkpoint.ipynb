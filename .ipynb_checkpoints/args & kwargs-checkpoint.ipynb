{
 "cells": [
  {
   "cell_type": "markdown",
   "id": "09584126-9546-4a17-8a89-37416428565c",
   "metadata": {},
   "source": [
    "## *args\n",
    "--> Use *args when you are not sure about the number of arguments to be passed to the function.\n",
    "\n",
    "--> *args allows us to pass variable no. of non-keyword arguments to function.\n",
    "\n",
    "--> Arguments are always passed as a tuple."
   ]
  },
  {
   "cell_type": "code",
   "execution_count": 1,
   "id": "b9e114f2-29cb-444c-bba5-95f015cdb5ff",
   "metadata": {},
   "outputs": [],
   "source": [
    "def function_name(positional_arguments, *args, named_arguments, **kwargs):\n",
    "    pass"
   ]
  },
  {
   "cell_type": "code",
   "execution_count": null,
   "id": "cf234510-321a-4426-a7fc-697628cd4067",
   "metadata": {},
   "outputs": [],
   "source": []
  },
  {
   "cell_type": "code",
   "execution_count": 13,
   "id": "57f3349e-cc0c-49d1-aeaa-68b2f033fdda",
   "metadata": {},
   "outputs": [
    {
     "data": {
      "text/plain": [
       "(1, 2, {3, 4}, (5, 6), [7, 8], (10+5j), 'word')"
      ]
     },
     "execution_count": 13,
     "metadata": {},
     "output_type": "execute_result"
    }
   ],
   "source": [
    "def just(*args):\n",
    "    return args\n",
    "\n",
    "just(1,2, {3,4}, (5,6), [7,8], complex(10,5), 'word')"
   ]
  },
  {
   "cell_type": "code",
   "execution_count": 23,
   "id": "d42f5cb9-2c1f-4c2e-8d66-b98d8b4acc8a",
   "metadata": {},
   "outputs": [
    {
     "name": "stdout",
     "output_type": "stream",
     "text": [
      "5\n",
      "9\n",
      "(1+3j)\n"
     ]
    }
   ],
   "source": [
    "def add(*arg):\n",
    "    return sum(arg)\n",
    "\n",
    "print( add(5,0) )\n",
    "print( add(5+2, 2) )\n",
    "print( add(5,2, complex(-6,3)) )"
   ]
  },
  {
   "cell_type": "code",
   "execution_count": 28,
   "id": "945c0c86-3485-4bc6-b783-a88facbaec0c",
   "metadata": {},
   "outputs": [
    {
     "data": {
      "text/plain": [
       "25"
      ]
     },
     "execution_count": 28,
     "metadata": {},
     "output_type": "execute_result"
    }
   ],
   "source": [
    "lst1 = [1,2,3]   #6\n",
    "tup2 = (2,2)     #4\n",
    "set3 = {10,5}    #15\n",
    "add(*lst1,*tup2,*set3) #6+4+15"
   ]
  },
  {
   "cell_type": "code",
   "execution_count": null,
   "id": "c52a86a4-6385-4026-9bd2-b8914866d79e",
   "metadata": {},
   "outputs": [],
   "source": []
  },
  {
   "cell_type": "markdown",
   "id": "33cec71f-32f2-45a2-962e-162a36c05ed0",
   "metadata": {},
   "source": [
    "## **kwargs\n",
    "--> Allows us to pass variable No. of Keyword arguments to the function.\n",
    "\n",
    "--> Arguments are passed as a dictionary."
   ]
  },
  {
   "cell_type": "code",
   "execution_count": 63,
   "id": "30408e09-3d12-4682-9995-8c47756ce5b4",
   "metadata": {},
   "outputs": [
    {
     "data": {
      "text/plain": [
       "{'ID': 1011,\n",
       " 'Designation': 'Software Developer',\n",
       " 'TCS': ('Tea', 'Coffee', 'Snacks'),\n",
       " 'salary': 75700.86,\n",
       " 'numbers': {31, 36, 42}}"
      ]
     },
     "execution_count": 63,
     "metadata": {},
     "output_type": "execute_result"
    }
   ],
   "source": [
    "def emp_details(**kwargs):\n",
    "    return kwargs\n",
    "\n",
    "dic = emp_details(ID=1011, Designation='Software Developer', TCS=('Tea','Coffee','Snacks'), salary=75700.860, numbers={31,36,31,42},)\n",
    "dic"
   ]
  },
  {
   "cell_type": "code",
   "execution_count": 76,
   "id": "13652ab1-0430-4e59-8e1b-e1d7bcc1ef95",
   "metadata": {},
   "outputs": [
    {
     "name": "stdout",
     "output_type": "stream",
     "text": [
      "<class 'dict'>\n",
      "\n",
      "ID :- 1011\n",
      "Designation :- Software Developer\n",
      "TCS :- ('Tea', 'Coffee', 'Snacks')\n",
      "salary :- 75700.86\n",
      "numbers :- {42, 36, 31}\n"
     ]
    }
   ],
   "source": [
    "def format_details(**kwarg):\n",
    "    for key, val in kwarg.items():\n",
    "        print(\"{} :- {}\".format(key,val))\n",
    "\n",
    "print(type(dic))\n",
    "print()\n",
    "format_details(**dic)"
   ]
  },
  {
   "cell_type": "code",
   "execution_count": null,
   "id": "8f980e80-3de6-4e3b-ba40-5764c68efe08",
   "metadata": {},
   "outputs": [],
   "source": []
  },
  {
   "cell_type": "markdown",
   "id": "889022da-284a-4953-ba62-050372ebbe90",
   "metadata": {},
   "source": [
    "## Combining all 4 arguments\n",
    "positional_arguments, *args, named_arguments, **kwargs"
   ]
  },
  {
   "cell_type": "code",
   "execution_count": 168,
   "id": "995c959d-3bbe-47d5-b9e0-758e4742d556",
   "metadata": {},
   "outputs": [],
   "source": [
    "def custDetails(custID, *args, contact='Not Available', **kwars):\n",
    "    print(\"Customer ID :\",custID)\n",
    "    print(\"Total :\", sum(args))\n",
    "    print(\"Contact :\", contact)\n",
    "    for k,v in kwars.items():\n",
    "        print(\"{} : {}\".format(k,v))"
   ]
  },
  {
   "cell_type": "code",
   "execution_count": 171,
   "id": "41283918-3481-4393-972b-21bd99ad7d09",
   "metadata": {},
   "outputs": [
    {
     "name": "stdout",
     "output_type": "stream",
     "text": [
      "Customer ID : KT-5160\n",
      "Total : 100\n",
      "Contact : 9876543210\n",
      "is_employed : YES\n",
      "Age : 25\n",
      "tips : $1.25\n"
     ]
    }
   ],
   "source": [
    "expense = {10,20,30}\n",
    "custDetails('KT-5160', *expense, 40 ,is_employed='YES', Age=25, tips='$1.25', contact=9876543210)"
   ]
  },
  {
   "cell_type": "markdown",
   "id": "c4c9c5f5-766d-4ad9-8228-62bd28943e23",
   "metadata": {},
   "source": [
    "## Change the order of parameters"
   ]
  },
  {
   "cell_type": "code",
   "execution_count": 180,
   "id": "2ddd80b7-dea8-469f-8371-4fa9e3259bc6",
   "metadata": {},
   "outputs": [
    {
     "ename": "SyntaxError",
     "evalue": "parameter without a default follows parameter with a default (1368220482.py, line 3)",
     "output_type": "error",
     "traceback": [
      "\u001b[1;36m  Cell \u001b[1;32mIn[180], line 3\u001b[1;36m\u001b[0m\n\u001b[1;33m    def OrderDetails1(orderID=101, contact):\u001b[0m\n\u001b[1;37m                                   ^\u001b[0m\n\u001b[1;31mSyntaxError\u001b[0m\u001b[1;31m:\u001b[0m parameter without a default follows parameter with a default\n"
     ]
    }
   ],
   "source": [
    "def OrderDetails1(orderID=101, contact):\n",
    "    pass"
   ]
  },
  {
   "cell_type": "code",
   "execution_count": 185,
   "id": "836cbe4b-f2c6-46c3-bf9c-1e783f91bee2",
   "metadata": {},
   "outputs": [
    {
     "ename": "SyntaxError",
     "evalue": "arguments cannot follow var-keyword argument (2841158449.py, line 1)",
     "output_type": "error",
     "traceback": [
      "\u001b[1;36m  Cell \u001b[1;32mIn[185], line 1\u001b[1;36m\u001b[0m\n\u001b[1;33m    def OrderDetails2(**kwargs, *args,contact):\u001b[0m\n\u001b[1;37m                                ^\u001b[0m\n\u001b[1;31mSyntaxError\u001b[0m\u001b[1;31m:\u001b[0m arguments cannot follow var-keyword argument\n"
     ]
    }
   ],
   "source": [
    "def OrderDetails2(**kwargs, *args,contact):\n",
    "    pass"
   ]
  },
  {
   "cell_type": "code",
   "execution_count": null,
   "id": "8a49c03b-4841-48a5-bf15-f8d6a3ba5495",
   "metadata": {},
   "outputs": [],
   "source": []
  },
  {
   "cell_type": "markdown",
   "id": "6c52f723-c4ae-4e04-a012-0773a9ac42f5",
   "metadata": {},
   "source": [
    "## Lambda"
   ]
  },
  {
   "cell_type": "code",
   "execution_count": 224,
   "id": "206254d6-8427-408b-b95b-73ebab2c80b3",
   "metadata": {},
   "outputs": [],
   "source": [
    "def product(*args):\n",
    "    res = 1\n",
    "    for i in args:\n",
    "        res = res * i\n",
    "    return res"
   ]
  },
  {
   "cell_type": "code",
   "execution_count": 225,
   "id": "ac511f63-e359-4335-a8a5-73c98c33357e",
   "metadata": {},
   "outputs": [
    {
     "data": {
      "text/plain": [
       "210"
      ]
     },
     "execution_count": 225,
     "metadata": {},
     "output_type": "execute_result"
    }
   ],
   "source": [
    "mul = lambda **kwargs: product(*kwargs.values()) # *kwargs.values() unpacks the values\n",
    "mul(a=3, b=5, p=7, zz=2)"
   ]
  },
  {
   "cell_type": "code",
   "execution_count": 227,
   "id": "f2a6b301-9fc3-4d2f-98fb-4a66761f689e",
   "metadata": {},
   "outputs": [
    {
     "data": {
      "text/plain": [
       "5"
      ]
     },
     "execution_count": 227,
     "metadata": {},
     "output_type": "execute_result"
    }
   ],
   "source": [
    "add = lambda **kwargs: sum(kwargs.values())    # sum() does not need unpacking, hence not *kwargs\n",
    "add(a=3,z=2)"
   ]
  },
  {
   "cell_type": "code",
   "execution_count": 228,
   "id": "6736798d-24cd-4323-a3f2-d42d94a43fec",
   "metadata": {},
   "outputs": [
    {
     "name": "stdout",
     "output_type": "stream",
     "text": [
      "5\n"
     ]
    }
   ],
   "source": []
  },
  {
   "cell_type": "code",
   "execution_count": null,
   "id": "66dc723b-f76e-4133-aba2-f5b11ec2d1a4",
   "metadata": {},
   "outputs": [],
   "source": []
  }
 ],
 "metadata": {
  "kernelspec": {
   "display_name": "Python 3 (ipykernel)",
   "language": "python",
   "name": "python3"
  },
  "language_info": {
   "codemirror_mode": {
    "name": "ipython",
    "version": 3
   },
   "file_extension": ".py",
   "mimetype": "text/x-python",
   "name": "python",
   "nbconvert_exporter": "python",
   "pygments_lexer": "ipython3",
   "version": "3.12.7"
  }
 },
 "nbformat": 4,
 "nbformat_minor": 5
}
