{
 "cells": [
  {
   "cell_type": "markdown",
   "id": "fffdb130",
   "metadata": {},
   "source": [
    "# Normal Copy"
   ]
  },
  {
   "cell_type": "code",
   "execution_count": 1,
   "id": "7fb000e4",
   "metadata": {},
   "outputs": [],
   "source": [
    "lst1 = [1,2,3,4,5,6,7,8,9]"
   ]
  },
  {
   "cell_type": "code",
   "execution_count": 2,
   "id": "3a8769f2",
   "metadata": {},
   "outputs": [],
   "source": [
    "lst2 = lst1"
   ]
  },
  {
   "cell_type": "code",
   "execution_count": 3,
   "id": "2a6af27c",
   "metadata": {},
   "outputs": [
    {
     "name": "stdout",
     "output_type": "stream",
     "text": [
      "[1, 2, 3, 4, 5, 6, 7, 8, 9]\n",
      "[1, 2, 3, 4, 5, 6, 7, 8, 9]\n"
     ]
    }
   ],
   "source": [
    "print(lst1)\n",
    "print(lst2)"
   ]
  },
  {
   "cell_type": "code",
   "execution_count": 4,
   "id": "b7381f71",
   "metadata": {},
   "outputs": [
    {
     "data": {
      "text/plain": [
       "[100, 2, 3, 4, 5, 6, 7, 8, 9]"
      ]
     },
     "execution_count": 4,
     "metadata": {},
     "output_type": "execute_result"
    }
   ],
   "source": [
    "lst1[0]=100\n",
    "lst1"
   ]
  },
  {
   "cell_type": "code",
   "execution_count": 5,
   "id": "fab3b016",
   "metadata": {},
   "outputs": [
    {
     "data": {
      "text/plain": [
       "[100, 9000, 3, 4, 5, 6, 7, 8, 9]"
      ]
     },
     "execution_count": 5,
     "metadata": {},
     "output_type": "execute_result"
    }
   ],
   "source": [
    "lst2[1]=9000\n",
    "lst2"
   ]
  },
  {
   "cell_type": "code",
   "execution_count": 6,
   "id": "47d0bf4a",
   "metadata": {},
   "outputs": [
    {
     "name": "stdout",
     "output_type": "stream",
     "text": [
      "[100, 9000, 3, 4, 5, 6, 7, 8, 9]\n",
      "[100, 9000, 3, 4, 5, 6, 7, 8, 9]\n"
     ]
    }
   ],
   "source": [
    "print(lst1)\n",
    "print(lst2)"
   ]
  },
  {
   "cell_type": "code",
   "execution_count": 7,
   "id": "e828ddf0",
   "metadata": {},
   "outputs": [
    {
     "name": "stdout",
     "output_type": "stream",
     "text": [
      "True\n",
      "True\n"
     ]
    }
   ],
   "source": [
    "print(lst1==lst2)   #--> Same Values\n",
    "print(lst1 is lst2) #--> Refers to same memory location"
   ]
  },
  {
   "cell_type": "markdown",
   "id": "447592d5",
   "metadata": {},
   "source": [
    "# Shallow Copy "
   ]
  },
  {
   "cell_type": "markdown",
   "id": "6aa292b4",
   "metadata": {},
   "source": [
    "### ***Case 1:- Normal List***"
   ]
  },
  {
   "cell_type": "code",
   "execution_count": 8,
   "id": "6d2193bc",
   "metadata": {},
   "outputs": [],
   "source": [
    "lst1 = [1,2,3,4,5,6,7,8,9]"
   ]
  },
  {
   "cell_type": "code",
   "execution_count": 9,
   "id": "76271067",
   "metadata": {},
   "outputs": [],
   "source": [
    "lst2 = lst1.copy()"
   ]
  },
  {
   "cell_type": "code",
   "execution_count": 10,
   "id": "a435104e",
   "metadata": {},
   "outputs": [
    {
     "name": "stdout",
     "output_type": "stream",
     "text": [
      "[1, 2, 3, 4, 5, 6, 7, 8, 9]\n",
      "[1, 2, 3, 4, 5, 6, 7, 8, 9]\n"
     ]
    }
   ],
   "source": [
    "print(lst1)\n",
    "print(lst2)"
   ]
  },
  {
   "cell_type": "code",
   "execution_count": 11,
   "id": "313fd821",
   "metadata": {},
   "outputs": [
    {
     "data": {
      "text/plain": [
       "[100, 2, 3, 4, 5, 6, 7, 8, 9]"
      ]
     },
     "execution_count": 11,
     "metadata": {},
     "output_type": "execute_result"
    }
   ],
   "source": [
    "lst1[0]=100\n",
    "lst1"
   ]
  },
  {
   "cell_type": "code",
   "execution_count": 12,
   "id": "98e94f15",
   "metadata": {},
   "outputs": [
    {
     "data": {
      "text/plain": [
       "[1, 9000, 3, 4, 5, 6, 7, 8, 9]"
      ]
     },
     "execution_count": 12,
     "metadata": {},
     "output_type": "execute_result"
    }
   ],
   "source": [
    "lst2[1]=9000\n",
    "lst2"
   ]
  },
  {
   "cell_type": "code",
   "execution_count": 13,
   "id": "d5671575",
   "metadata": {},
   "outputs": [
    {
     "name": "stdout",
     "output_type": "stream",
     "text": [
      "[100, 2, 3, 4, 5, 6, 7, 8, 9]\n",
      "[1, 9000, 3, 4, 5, 6, 7, 8, 9]\n"
     ]
    }
   ],
   "source": [
    "print(lst1)\n",
    "print(lst2)"
   ]
  },
  {
   "cell_type": "code",
   "execution_count": 14,
   "id": "37caef26",
   "metadata": {},
   "outputs": [
    {
     "name": "stdout",
     "output_type": "stream",
     "text": [
      "False\n",
      "False\n"
     ]
    }
   ],
   "source": [
    "print(lst1==lst2)   #--> different Values\n",
    "print(lst1 is lst2) #--> Refers to different memory location"
   ]
  },
  {
   "cell_type": "markdown",
   "id": "bfd6efa2",
   "metadata": {},
   "source": [
    "***Each element inside the list is an item***"
   ]
  },
  {
   "cell_type": "markdown",
   "id": "e65b1161",
   "metadata": {},
   "source": [
    "### ***Case 2:- Nested List***"
   ]
  },
  {
   "cell_type": "code",
   "execution_count": 15,
   "id": "1fff3abb",
   "metadata": {},
   "outputs": [],
   "source": [
    "lst1 = [[1,2,3,4,5,6,7,8,9], [9,8,7,6,5,4,3,2,1]]"
   ]
  },
  {
   "cell_type": "code",
   "execution_count": 16,
   "id": "55791593",
   "metadata": {},
   "outputs": [],
   "source": [
    "lst2 = lst1.copy()"
   ]
  },
  {
   "cell_type": "code",
   "execution_count": 17,
   "id": "b375b083",
   "metadata": {},
   "outputs": [
    {
     "name": "stdout",
     "output_type": "stream",
     "text": [
      "[[1, 2, 3, 4, 5, 6, 7, 8, 9], [9, 8, 7, 6, 5, 4, 3, 2, 1]]\n",
      "[[1, 2, 3, 4, 5, 6, 7, 8, 9], [9, 8, 7, 6, 5, 4, 3, 2, 1]]\n"
     ]
    }
   ],
   "source": [
    "print(lst1)\n",
    "print(lst2)"
   ]
  },
  {
   "cell_type": "code",
   "execution_count": 18,
   "id": "463a4ced",
   "metadata": {},
   "outputs": [
    {
     "data": {
      "text/plain": [
       "[[1, 2, 3, 4, 5, 6, 7, 8, 9], [100, 8, 7, 6, 5, 4, 3, 2, 1]]"
      ]
     },
     "execution_count": 18,
     "metadata": {},
     "output_type": "execute_result"
    }
   ],
   "source": [
    "lst1[1][0]=100\n",
    "lst1"
   ]
  },
  {
   "cell_type": "code",
   "execution_count": 19,
   "id": "3a28809a",
   "metadata": {},
   "outputs": [
    {
     "data": {
      "text/plain": [
       "[[1, 2, 3, 4, 5, 6, 7, 8, 9], [100, 9000, 7, 6, 5, 4, 3, 2, 1]]"
      ]
     },
     "execution_count": 19,
     "metadata": {},
     "output_type": "execute_result"
    }
   ],
   "source": [
    "lst2[1][1]=9000\n",
    "lst2"
   ]
  },
  {
   "cell_type": "code",
   "execution_count": 20,
   "id": "3f18d3f8",
   "metadata": {
    "scrolled": true
   },
   "outputs": [
    {
     "name": "stdout",
     "output_type": "stream",
     "text": [
      "[[1, 2, 3, 4, 5, 6, 7, 8, 9], [100, 9000, 7, 6, 5, 4, 3, 2, 1]]\n",
      "[[1, 2, 3, 4, 5, 6, 7, 8, 9], [100, 9000, 7, 6, 5, 4, 3, 2, 1]]\n"
     ]
    }
   ],
   "source": [
    "print(lst1)\n",
    "print(lst2)"
   ]
  },
  {
   "cell_type": "code",
   "execution_count": 21,
   "id": "567a8aeb",
   "metadata": {},
   "outputs": [
    {
     "name": "stdout",
     "output_type": "stream",
     "text": [
      "True\n",
      "False\n"
     ]
    }
   ],
   "source": [
    "print(lst1==lst2)   #--> same Values\n",
    "print(lst1 is lst2) #--> Refers to different memory location"
   ]
  },
  {
   "cell_type": "markdown",
   "id": "cc11698d",
   "metadata": {},
   "source": [
    "**CONCLUSION:- list1 effects list2**"
   ]
  },
  {
   "cell_type": "markdown",
   "id": "cdb52e70",
   "metadata": {},
   "source": [
    "***Each list inside main-list is an item and elements inside the sublist are considered as objects***"
   ]
  },
  {
   "cell_type": "markdown",
   "id": "80db9b61",
   "metadata": {},
   "source": [
    "### ***Case 3:- Append List***"
   ]
  },
  {
   "cell_type": "code",
   "execution_count": 22,
   "id": "6aba85da",
   "metadata": {},
   "outputs": [],
   "source": [
    "lst1 = [[1,2,3,4,5,6,7,8,9], [9,8,7,6,5,4,3,2,1]]"
   ]
  },
  {
   "cell_type": "code",
   "execution_count": 23,
   "id": "e89bfcfd",
   "metadata": {},
   "outputs": [],
   "source": [
    "lst2 = lst1.copy()"
   ]
  },
  {
   "cell_type": "code",
   "execution_count": 24,
   "id": "fa181d4e",
   "metadata": {},
   "outputs": [
    {
     "name": "stdout",
     "output_type": "stream",
     "text": [
      "[[1, 2, 3, 4, 5, 6, 7, 8, 9], [9, 8, 7, 6, 5, 4, 3, 2, 1]]\n",
      "[[1, 2, 3, 4, 5, 6, 7, 8, 9], [9, 8, 7, 6, 5, 4, 3, 2, 1]]\n"
     ]
    }
   ],
   "source": [
    "print(lst1)\n",
    "print(lst2)"
   ]
  },
  {
   "cell_type": "code",
   "execution_count": 25,
   "id": "2f8d9417",
   "metadata": {},
   "outputs": [],
   "source": [
    "lst1.append([5,6,7,8,9,0])\n",
    "lst1[1][0] = 100\n",
    "lst1[2][0] = 1000"
   ]
  },
  {
   "cell_type": "code",
   "execution_count": 26,
   "id": "750eec87",
   "metadata": {},
   "outputs": [
    {
     "name": "stdout",
     "output_type": "stream",
     "text": [
      "[[1, 2, 3, 4, 5, 6, 7, 8, 9], [100, 8, 7, 6, 5, 4, 3, 2, 1], [1000, 6, 7, 8, 9, 0]]\n",
      "[[1, 2, 3, 4, 5, 6, 7, 8, 9], [100, 8, 7, 6, 5, 4, 3, 2, 1]]\n"
     ]
    }
   ],
   "source": [
    "print(lst1)\n",
    "print(lst2)"
   ]
  },
  {
   "cell_type": "code",
   "execution_count": 27,
   "id": "8f38a222",
   "metadata": {},
   "outputs": [],
   "source": [
    "lst2.append([2,4,6,8,0])\n",
    "lst2[1][0] = 100\n",
    "lst2[2][0] = 1000"
   ]
  },
  {
   "cell_type": "code",
   "execution_count": 28,
   "id": "13d88cfe",
   "metadata": {},
   "outputs": [
    {
     "name": "stdout",
     "output_type": "stream",
     "text": [
      "[[1, 2, 3, 4, 5, 6, 7, 8, 9], [100, 8, 7, 6, 5, 4, 3, 2, 1], [1000, 6, 7, 8, 9, 0]]\n",
      "[[1, 2, 3, 4, 5, 6, 7, 8, 9], [100, 8, 7, 6, 5, 4, 3, 2, 1], [1000, 4, 6, 8, 0]]\n"
     ]
    }
   ],
   "source": [
    "print(lst1)\n",
    "print(lst2)"
   ]
  },
  {
   "cell_type": "markdown",
   "id": "618f6299",
   "metadata": {},
   "source": [
    "***No impact***"
   ]
  },
  {
   "cell_type": "code",
   "execution_count": null,
   "id": "2b62550a",
   "metadata": {},
   "outputs": [],
   "source": []
  },
  {
   "cell_type": "markdown",
   "id": "5fa1dc17",
   "metadata": {},
   "source": [
    "# Deep Copy"
   ]
  },
  {
   "cell_type": "markdown",
   "id": "7ebdd85a",
   "metadata": {},
   "source": [
    "### ***Case 1:- Normal List***"
   ]
  },
  {
   "cell_type": "code",
   "execution_count": 29,
   "id": "d7d9282d",
   "metadata": {},
   "outputs": [],
   "source": [
    "import copy"
   ]
  },
  {
   "cell_type": "code",
   "execution_count": 30,
   "id": "8e834dd2",
   "metadata": {},
   "outputs": [],
   "source": [
    "lst1 = [1,2,3,4,5,6,7,8,9]"
   ]
  },
  {
   "cell_type": "code",
   "execution_count": 31,
   "id": "ca1d4186",
   "metadata": {},
   "outputs": [],
   "source": [
    "lst2 = copy.deepcopy(lst1)"
   ]
  },
  {
   "cell_type": "code",
   "execution_count": 32,
   "id": "3a5458e3",
   "metadata": {},
   "outputs": [
    {
     "name": "stdout",
     "output_type": "stream",
     "text": [
      "[1, 2, 3, 4, 5, 6, 7, 8, 9]\n",
      "[1, 2, 3, 4, 5, 6, 7, 8, 9]\n"
     ]
    }
   ],
   "source": [
    "print(lst1)\n",
    "print(lst2)"
   ]
  },
  {
   "cell_type": "code",
   "execution_count": 33,
   "id": "8be5d6cb",
   "metadata": {},
   "outputs": [
    {
     "data": {
      "text/plain": [
       "[100, 2, 3, 4, 5, 6, 7, 8, 9]"
      ]
     },
     "execution_count": 33,
     "metadata": {},
     "output_type": "execute_result"
    }
   ],
   "source": [
    "lst1[0]=100\n",
    "lst1"
   ]
  },
  {
   "cell_type": "code",
   "execution_count": 34,
   "id": "e1812a0d",
   "metadata": {},
   "outputs": [
    {
     "data": {
      "text/plain": [
       "[1, 9000, 3, 4, 5, 6, 7, 8, 9]"
      ]
     },
     "execution_count": 34,
     "metadata": {},
     "output_type": "execute_result"
    }
   ],
   "source": [
    "lst2[1]=9000\n",
    "lst2"
   ]
  },
  {
   "cell_type": "code",
   "execution_count": 35,
   "id": "6df6a0c1",
   "metadata": {},
   "outputs": [
    {
     "name": "stdout",
     "output_type": "stream",
     "text": [
      "[100, 2, 3, 4, 5, 6, 7, 8, 9]\n",
      "[1, 9000, 3, 4, 5, 6, 7, 8, 9]\n"
     ]
    }
   ],
   "source": [
    "print(lst1)\n",
    "print(lst2)"
   ]
  },
  {
   "cell_type": "code",
   "execution_count": 36,
   "id": "27a78f44",
   "metadata": {},
   "outputs": [
    {
     "name": "stdout",
     "output_type": "stream",
     "text": [
      "False\n",
      "False\n"
     ]
    }
   ],
   "source": [
    "print(lst1==lst2)   #--> different Values\n",
    "print(lst1 is lst2) #--> Refers to different memory location"
   ]
  },
  {
   "cell_type": "markdown",
   "id": "0ecee34d",
   "metadata": {},
   "source": [
    "***CONCLUSION:- DeepCopy & ShallowCopy (case-1) are same in case of a Normal List***"
   ]
  },
  {
   "cell_type": "markdown",
   "id": "9b2174c6",
   "metadata": {},
   "source": [
    "### ***Case 2:- Nested List***"
   ]
  },
  {
   "cell_type": "code",
   "execution_count": 37,
   "id": "fec5f26f",
   "metadata": {},
   "outputs": [],
   "source": [
    "lst1 = [[1,2,3,4,5,6,7,8,9], [9,8,7,6,5,4,3,2,1]]"
   ]
  },
  {
   "cell_type": "code",
   "execution_count": 38,
   "id": "ae825448",
   "metadata": {},
   "outputs": [],
   "source": [
    "lst2 = copy.deepcopy(lst1)"
   ]
  },
  {
   "cell_type": "code",
   "execution_count": 39,
   "id": "17e31cee",
   "metadata": {},
   "outputs": [
    {
     "name": "stdout",
     "output_type": "stream",
     "text": [
      "[[1, 2, 3, 4, 5, 6, 7, 8, 9], [9, 8, 7, 6, 5, 4, 3, 2, 1]]\n",
      "[[1, 2, 3, 4, 5, 6, 7, 8, 9], [9, 8, 7, 6, 5, 4, 3, 2, 1]]\n"
     ]
    }
   ],
   "source": [
    "print(lst1)\n",
    "print(lst2)"
   ]
  },
  {
   "cell_type": "code",
   "execution_count": 40,
   "id": "7a2d62af",
   "metadata": {},
   "outputs": [
    {
     "data": {
      "text/plain": [
       "[[1, 2, 3, 4, 5, 6, 7, 8, 9], [100, 8, 7, 6, 5, 4, 3, 2, 1]]"
      ]
     },
     "execution_count": 40,
     "metadata": {},
     "output_type": "execute_result"
    }
   ],
   "source": [
    "lst1[1][0]=100\n",
    "lst1"
   ]
  },
  {
   "cell_type": "code",
   "execution_count": 41,
   "id": "97b3c450",
   "metadata": {},
   "outputs": [
    {
     "data": {
      "text/plain": [
       "[[1, 2, 3, 4, 5, 6, 7, 8, 9], [9, 9000, 7, 6, 5, 4, 3, 2, 1]]"
      ]
     },
     "execution_count": 41,
     "metadata": {},
     "output_type": "execute_result"
    }
   ],
   "source": [
    "lst2[1][1]=9000\n",
    "lst2"
   ]
  },
  {
   "cell_type": "code",
   "execution_count": 42,
   "id": "bb21e097",
   "metadata": {},
   "outputs": [
    {
     "name": "stdout",
     "output_type": "stream",
     "text": [
      "[[1, 2, 3, 4, 5, 6, 7, 8, 9], [100, 8, 7, 6, 5, 4, 3, 2, 1]]\n",
      "[[1, 2, 3, 4, 5, 6, 7, 8, 9], [9, 9000, 7, 6, 5, 4, 3, 2, 1]]\n"
     ]
    }
   ],
   "source": [
    "print(lst1)\n",
    "print(lst2)"
   ]
  },
  {
   "cell_type": "code",
   "execution_count": 43,
   "id": "e3a2ac4f",
   "metadata": {},
   "outputs": [
    {
     "name": "stdout",
     "output_type": "stream",
     "text": [
      "False\n",
      "False\n"
     ]
    }
   ],
   "source": [
    "print(lst1==lst2)   #--> different Values\n",
    "print(lst1 is lst2) #--> Refers to different memory location"
   ]
  },
  {
   "cell_type": "markdown",
   "id": "83bb6057",
   "metadata": {},
   "source": [
    "**CONCLUSION:- list1 doesn't effect list2 as same as Case-1**"
   ]
  },
  {
   "cell_type": "markdown",
   "id": "514b2a66",
   "metadata": {},
   "source": [
    "***Each list inside main-list is an item and elements inside the sublist are considered as objects***\n",
    "\n",
    "**Seperate Memory location is created**"
   ]
  },
  {
   "cell_type": "markdown",
   "id": "c2a6b877",
   "metadata": {},
   "source": [
    "### ***Case 3:- Append & Update List***"
   ]
  },
  {
   "cell_type": "code",
   "execution_count": 44,
   "id": "56308b72",
   "metadata": {},
   "outputs": [],
   "source": [
    "lst1 = [[1,2,3,4,5,6,7,8,9], [9,8,7,6,5,4,3,2,1]]"
   ]
  },
  {
   "cell_type": "code",
   "execution_count": 45,
   "id": "2e0f5626",
   "metadata": {},
   "outputs": [],
   "source": [
    "lst2 = copy.deepcopy(lst1)"
   ]
  },
  {
   "cell_type": "code",
   "execution_count": 46,
   "id": "3eed450b",
   "metadata": {},
   "outputs": [
    {
     "name": "stdout",
     "output_type": "stream",
     "text": [
      "[[1, 2, 3, 4, 5, 6, 7, 8, 9], [9, 8, 7, 6, 5, 4, 3, 2, 1]]\n",
      "[[1, 2, 3, 4, 5, 6, 7, 8, 9], [9, 8, 7, 6, 5, 4, 3, 2, 1]]\n"
     ]
    }
   ],
   "source": [
    "print(lst1)\n",
    "print(lst2)"
   ]
  },
  {
   "cell_type": "code",
   "execution_count": 47,
   "id": "a4533c89",
   "metadata": {},
   "outputs": [],
   "source": [
    "lst1.append([5,6,7,8,9,0])\n",
    "lst1[1][0] = 100\n",
    "lst1[2][0] = 1000"
   ]
  },
  {
   "cell_type": "code",
   "execution_count": 48,
   "id": "a4677950",
   "metadata": {},
   "outputs": [
    {
     "name": "stdout",
     "output_type": "stream",
     "text": [
      "[[1, 2, 3, 4, 5, 6, 7, 8, 9], [100, 8, 7, 6, 5, 4, 3, 2, 1], [1000, 6, 7, 8, 9, 0]]\n",
      "[[1, 2, 3, 4, 5, 6, 7, 8, 9], [9, 8, 7, 6, 5, 4, 3, 2, 1]]\n"
     ]
    }
   ],
   "source": [
    "print(lst1)\n",
    "print(lst2)"
   ]
  },
  {
   "cell_type": "markdown",
   "id": "9637cce8",
   "metadata": {},
   "source": [
    "**Works same as case-2, it dosen't considers the appended list in shallow copy as well**"
   ]
  }
 ],
 "metadata": {
  "kernelspec": {
   "display_name": "Python 3 (ipykernel)",
   "language": "python",
   "name": "python3"
  },
  "language_info": {
   "codemirror_mode": {
    "name": "ipython",
    "version": 3
   },
   "file_extension": ".py",
   "mimetype": "text/x-python",
   "name": "python",
   "nbconvert_exporter": "python",
   "pygments_lexer": "ipython3",
   "version": "3.11.5"
  }
 },
 "nbformat": 4,
 "nbformat_minor": 5
}
