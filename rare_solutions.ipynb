{
 "cells": [
  {
   "cell_type": "markdown",
   "id": "1fbe8d1b-d5cd-4fd2-b9ee-9d4a5c6aafba",
   "metadata": {},
   "source": [
    "## String Length Increase"
   ]
  },
  {
   "cell_type": "code",
   "execution_count": 55,
   "id": "be4ca8c5-6209-4578-8deb-949318508448",
   "metadata": {},
   "outputs": [
    {
     "name": "stdout",
     "output_type": "stream",
     "text": [
      "HHHeeellllllooo\n"
     ]
    }
   ],
   "source": [
    "string = \"Hello\"\n",
    "out=''\n",
    "for i in string:\n",
    "    out = out+i*3\n",
    "print(out)"
   ]
  },
  {
   "cell_type": "code",
   "execution_count": 22,
   "id": "3814b0ad-8d23-4461-b255-3f87e81d394f",
   "metadata": {},
   "outputs": [
    {
     "data": {
      "text/plain": [
       "'HHHeeellllllooo'"
      ]
     },
     "execution_count": 22,
     "metadata": {},
     "output_type": "execute_result"
    }
   ],
   "source": [
    "string = \"Hello\"\n",
    "\n",
    "def recursive_string(s,n):\n",
    "    if not s:\n",
    "        return ''\n",
    "    return s[0]*n+recursive_string(s[1:],n)\n",
    "\n",
    "recursive_string(string,3)"
   ]
  },
  {
   "cell_type": "markdown",
   "id": "7334d534-493e-4663-b21f-d400a0b92337",
   "metadata": {},
   "source": [
    "## len function using Recursion"
   ]
  },
  {
   "cell_type": "code",
   "execution_count": 23,
   "id": "1b9d665c-c71e-49a1-80a5-c2a3702a207d",
   "metadata": {},
   "outputs": [
    {
     "data": {
      "text/plain": [
       "3"
      ]
     },
     "execution_count": 23,
     "metadata": {},
     "output_type": "execute_result"
    }
   ],
   "source": [
    "arr = [51,'asd','121']\n",
    "\n",
    "def recursive_length(arr):\n",
    "    if not arr:\n",
    "        return 0\n",
    "    return 1+recursive_length(arr[1:])\n",
    "\n",
    "recursive_length(arr)"
   ]
  },
  {
   "cell_type": "markdown",
   "id": "b293f28a-c4e1-4ca2-b2ea-8e0299406b27",
   "metadata": {},
   "source": [
    "## K repeated elements"
   ]
  },
  {
   "cell_type": "code",
   "execution_count": 37,
   "id": "e1c0b184-4df9-4509-b4c0-7c82101bfb3d",
   "metadata": {},
   "outputs": [
    {
     "name": "stdout",
     "output_type": "stream",
     "text": [
      "{1, 2, 3}\n"
     ]
    }
   ],
   "source": [
    "lst = [1,2,2,2,2,2,1,3,1,3,4]  #[1,2,3]\n",
    "d={}\n",
    "res = set()\n",
    "k=2\n",
    "for i in lst:\n",
    "    if i not in d.keys():\n",
    "        d[i]=0\n",
    "    d[i]+=1\n",
    "\n",
    "    if d[i]>=k:\n",
    "        res.add(i)\n",
    "print(res)"
   ]
  },
  {
   "cell_type": "markdown",
   "id": "0ba79a53-6bac-435b-8a8d-ea86d19e0a68",
   "metadata": {},
   "source": [
    "## N-th highest element"
   ]
  },
  {
   "cell_type": "code",
   "execution_count": 54,
   "id": "b19aba3c-c4db-4e10-bed4-1b7fd496237f",
   "metadata": {},
   "outputs": [
    {
     "data": {
      "text/plain": [
       "4"
      ]
     },
     "execution_count": 54,
     "metadata": {},
     "output_type": "execute_result"
    }
   ],
   "source": [
    "asd = [5,1,4,2,3,10]\n",
    "def nth_highest(lst,n):\n",
    "    for i in range(len(lst)-1,0,-1):\n",
    "        for j in range(i):\n",
    "            if lst[j]<lst[j+1]:\n",
    "                lst[j],lst[j+1]=lst[j+1],lst[j]\n",
    "\n",
    "    return lst[n-1]\n",
    "    \n",
    "nth_highest(asd,3)"
   ]
  },
  {
   "cell_type": "markdown",
   "id": "354bda44-a0e0-4a54-8280-4dbde8b62244",
   "metadata": {},
   "source": [
    "## Reversing a string without slicing"
   ]
  },
  {
   "cell_type": "code",
   "execution_count": 15,
   "id": "6609f374-44d4-4a5c-a601-30c32f480ccd",
   "metadata": {},
   "outputs": [
    {
     "data": {
      "text/plain": [
       "'margorp nohtyp'"
      ]
     },
     "execution_count": 15,
     "metadata": {},
     "output_type": "execute_result"
    }
   ],
   "source": [
    "word = 'python program'\n",
    "# word[::-1]\n",
    "def reverse\n",
    "lst = [i for i in word]\n",
    "lst.reverse()\n",
    "res = ''.join(lst)\n",
    "res"
   ]
  },
  {
   "cell_type": "code",
   "execution_count": 22,
   "id": "40ba3f88-a8c8-4a48-a98e-65ed70a4c4fe",
   "metadata": {},
   "outputs": [
    {
     "data": {
      "text/plain": [
       "'margorp nohtyp'"
      ]
     },
     "execution_count": 22,
     "metadata": {},
     "output_type": "execute_result"
    }
   ],
   "source": [
    "lst=[]\n",
    "for i in reversed(word):  # returns a reversed iterator object.\n",
    "    lst.append(i)\n",
    "''.join(lst)"
   ]
  },
  {
   "cell_type": "code",
   "execution_count": null,
   "id": "fd4ebc74-12e7-40a8-a029-8b26ac6de879",
   "metadata": {},
   "outputs": [],
   "source": []
  }
 ],
 "metadata": {
  "kernelspec": {
   "display_name": "Python 3 (ipykernel)",
   "language": "python",
   "name": "python3"
  },
  "language_info": {
   "codemirror_mode": {
    "name": "ipython",
    "version": 3
   },
   "file_extension": ".py",
   "mimetype": "text/x-python",
   "name": "python",
   "nbconvert_exporter": "python",
   "pygments_lexer": "ipython3",
   "version": "3.12.7"
  }
 },
 "nbformat": 4,
 "nbformat_minor": 5
}
